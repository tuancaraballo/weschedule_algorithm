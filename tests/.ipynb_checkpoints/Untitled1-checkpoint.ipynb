{
 "cells": [
  {
   "cell_type": "markdown",
   "metadata": {},
   "source": [
    "## Solving rooming and pooling scheduling problem\n",
    "\n",
    "At clinics, MA have two large responsibilities. 1st is to room patients and assist doctor with any administrative and logistical support for patients the physician is seeing. Physician needs the MA to bring patients from waiting room, take their vitals, take chief complaint, do any paperwork not done by front desk, prepare any materials for procedures or injections. The other responsibility is inbasket management or pooling. This responsibility entails managing the messages the physicians receive in their inbasket which may range from patient messages, pharmancy requests, laboratory notifications etc. Many messages can be done with the MA authority, others need physician approval, physician input, or completely managed by physician. \n",
    "\n",
    "Generally, every physician who is seeing patient needs an MA to room for that physician(ie asssigned to room). Also, every physician in the group needs to have an MA covering for physician inbasket (ie assigned to pool) \n",
    "\n",
    "### Algorithm for rooming\n",
    "This schedule needs to be created first because:\n",
    "1. Its a more important schedule than pooling. Direct patient care provides value to the clinic because they can bill for it. \n",
    "2. Physician get upset when they do not have a MA to help them with tasks. They get frustrated when they are asked to do tasks which the MA usually does for a number of reasons. \n",
    "\n",
    "#### Inputs: \n",
    "1. **Physician schedule:** indicating which ones are working, and need an MA scheduled by AM, PM \n",
    "2. **MA schedule:** indicating which ones are available to room by AM and PM\n",
    "3. **MA_physician pairs:** indicates which physicians to ma pairings\n",
    "4. **Weights:** indicates how much work it is to work with a physician. \n",
    "\n",
    "#### Outputs \n",
    "1. **Physician to ma pairs** dictionary that maps physician name to list of tuples. Each tuple will be in form of (time, ma_name), where time is in this case AM or PM. na_name is \n",
    "2. **Ma to physician pairs**: dictionary that maps ma name to list of typles. Each tuple\n"
   ]
  },
  {
   "cell_type": "code",
   "execution_count": 5,
   "metadata": {
    "collapsed": true
   },
   "outputs": [],
   "source": [
    "# What input should look like\n",
    "\n",
    "physician_schedule = {\"Dr. Liz\": [\"AM\", \"PM\"],\n",
    "                         \"Dr. Wong\": [\"AM\", \"PM\"],\n",
    "                         \"Dr. Res\": [\"AM\"]}\n",
    "\n",
    "ma_physician_schedule = {\"Sally\":[\"AM\", \"PM\"], \n",
    "                         \"Diego\": [\"AM\", \"PM\"], \n",
    "                         \"Lucero\": [\"AM\"]}\n",
    "\n",
    "preferences = {\"Dr. Wong\": [\"Sally\"]}\n",
    "\n",
    "# What output should look like \n",
    "\n",
    "ma_to_physician_output = {\"Sally\":[(\"AM\", \"Dr. Wong\"),(\"PM\", \"Dr. Wong\")], \n",
    "                         \"Diego\": [(\"AM\", \"Dr. Res\"),(\"PM\", \"Dr. Liz\")], \n",
    "                         \"Lucero\": [(\"AM\", \"Dr. Liz\")]}\n",
    "\n",
    "physician_to_ma_output = {\"Dr. Liz\": [(\"AM\", \"Lucero\"),(\"PM\", \"Diego\")],\n",
    "                         \"Dr. Wong\": [(\"AM\", \"Sally\"),(\"PM\", \"Sally\")], \n",
    "                         \"Dr. Res\": [(\"AM\", \"Dr. Res\")]}\n",
    "weights = {\"Dr. Liz\": 1, \"Dr. Wong\": 1, \"Dr. Res\": 1}"
   ]
  },
  {
   "cell_type": "markdown",
   "metadata": {},
   "source": [
    "#### Setting up as Integer programming solution\n",
    "\n",
    "Solving:\n",
    "\n",
    "1. Apply preferences\n",
    "2. Ofthose without preferences, apply work. "
   ]
  },
  {
   "cell_type": "code",
   "execution_count": null,
   "metadata": {
    "collapsed": true
   },
   "outputs": [],
   "source": []
  }
 ],
 "metadata": {
  "kernelspec": {
   "display_name": "Python [pytorch]",
   "language": "python",
   "name": "Python [pytorch]"
  },
  "language_info": {
   "codemirror_mode": {
    "name": "ipython",
    "version": 3
   },
   "file_extension": ".py",
   "mimetype": "text/x-python",
   "name": "python",
   "nbconvert_exporter": "python",
   "pygments_lexer": "ipython3",
   "version": "3.5.4"
  }
 },
 "nbformat": 4,
 "nbformat_minor": 0
}
