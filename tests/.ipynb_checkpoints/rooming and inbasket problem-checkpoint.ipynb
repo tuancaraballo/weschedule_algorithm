{
 "cells": [
  {
   "cell_type": "markdown",
   "metadata": {},
   "source": [
    "## Solving rooming and inbasket scheduling problem\n",
    "\n",
    "At clinics, MA have two large responsibilities. 1st is to room patients and assist doctor with any administrative and logistical support for patients the physician is seeing. Physician needs the MA to bring patients from waiting room, take their vitals, take chief complaint, do any paperwork not done by front desk, prepare any materials for procedures or injections. The other responsibility is inbasket management or inbasket. This responsibility entails managing the messages the physicians receive in their inbasket which may range from patient messages, pharmancy requests, laboratory notifications etc. Many messages can be done with the MA authority, others need physician approval, physician input, or completely managed by physician. \n",
    "\n",
    "Generally, every physician who is seeing patient needs an MA to room for that physician(ie asssigned to room). Also, every physician in the group needs to have an MA covering for physician inbasket (ie assigned to inbasket) \n",
    "\n",
    "### Algorithm for rooming\n",
    "This schedule needs to be created first because:\n",
    "1. Its a more important schedule than inbasket. Direct patient care provides value to the clinic because they can bill for it. \n",
    "2. Physician get upset when they do not have a MA to help them with tasks. They get frustrated when they are asked to do tasks which the MA usually does for a number of reasons. \n",
    "\n",
    "#### Inputs: \n",
    "1. **Physician schedule:** indicating which ones are working, and need an MA scheduled by AM, PM \n",
    "2. **MA schedule:** indicating which ones are available to room by AM and PM\n",
    "3. **MA_physician pairs:** indicates which physicians to ma pairings\n",
    "4. **Weights:** indicates how much work it is to work with a physician. Perhaps their schedule is changed. \n",
    "\n",
    "#### Outputs \n",
    "1. **Physician to ma pairs** dictionary that maps physician name to list of tuples. Each tuple will be in form of (time, ma_name), where time is in this case AM or PM. na_name is \n",
    "2. **Ma to physician pairs**: dictionary that maps ma name to list of typles. Each tuple \n"
   ]
  },
  {
   "cell_type": "code",
   "execution_count": 75,
   "metadata": {
    "collapsed": true
   },
   "outputs": [],
   "source": [
    "# What input should look like\n",
    "\n",
    "physician_schedule = {\"Dr.Liz\": [\"AM\", \"PM\"],\n",
    "                         \"Dr.Wong\": [\"AM\", \"PM\"],\n",
    "                         \"Dr.Res\": [\"AM\"]}\n",
    "\n",
    "ma_schedule = {\"Sally\":[\"AM\", \"PM\"], \n",
    "                \"Diego\": [\"AM\", \"PM\"], \n",
    "                \"Lucero\": [\"AM\"]}\n",
    "\n",
    "preferences = {\"Dr.Wong\": [\"Sally\"]}\n",
    "\n",
    "# What output should look like \n",
    "\n",
    "ma_to_physician_output = {\"Sally\":[(\"AM\", \"Dr.Wong\"),(\"PM\", \"Dr.Wong\")], \n",
    "                         \"Diego\": [(\"AM\", \"Dr.Res\"),(\"PM\", \"Dr.Liz\")], \n",
    "                         \"Lucero\": [(\"AM\", \"Dr.Liz\")]}\n",
    "\n",
    "physician_to_ma_output = {\"Dr.Liz\": [(\"AM\", \"Lucero\"),(\"PM\", \"Diego\")],\n",
    "                         \"Dr.Wong\": [(\"AM\", \"Sally\"),(\"PM\", \"Sally\")], \n",
    "                         \"Dr.Res\": [(\"AM\", \"Dr.Res\")]}\n",
    "weights = {\"Dr.Liz\": 1, \"Dr.Wong\": 1, \"Dr.Res\": 1}\n",
    "\n"
   ]
  },
  {
   "cell_type": "markdown",
   "metadata": {},
   "source": [
    "#### Setting up as Integer programming solution\n",
    "\n",
    "Solving:\n",
    "\n",
    "1. Apply preferences\n",
    "2. Ofthose without preferences, apply integer problem. optimizing for equal work. \n",
    "3. "
   ]
  },
  {
   "cell_type": "code",
   "execution_count": 81,
   "metadata": {
    "collapsed": false
   },
   "outputs": [],
   "source": [
    "from ortools.linear_solver import pywraplp\n",
    "import numpy as np\n",
    "\n",
    "def find_rooming_inbasket_assign(physician_schedule, ma_schedule, prefereces):\n",
    "    \n",
    "    #create variable matrix \n",
    "        #num cols will correspond to the people\n",
    "        #num rows will correspond to time \n",
    "        #each cell will have an array of variables\n",
    "    time_num_dim = 2\n",
    "    time_dims = np.array([\"AM\", \"PM\"])\n",
    "    matrix_vars = np.zeros((len(ma_schedule), time_num_dim), dtype=object)\n",
    "    ma_names = list(ma_schedule.keys())\n",
    "    print(type(ma_names))\n",
    "    physician_names = list(physician_schedule.keys())\n",
    "    #we will create a matrix with size (num ma, time periods)\n",
    "    #each cell will contain a list where it has all relevant variables\n",
    "    for row in range(matrix_vars.shape[0]):\n",
    "        for col in range(matrix_vars.shape[1]):\n",
    "            matrix_vars[row, col] = []\n",
    "    \n",
    "    solver = pywraplp.Solver('SolveIntegerProblem', pywraplp.Solver.CBC_MIXED_INTEGER_PROGRAMMING)\n",
    "    #add rooming variables \n",
    "    for doctor, schedule in physician_schedule.items():  \n",
    "        for time_period in schedule:\n",
    "            print(time_period)\n",
    "            print(np.nonzero(time_dims == time_period)[0][0])\n",
    "            #TODO: will crash if time_period is not valid\n",
    "            curr_col = np.nonzero(time_dims == time_period)[0][0]\n",
    "            for row in range(matrix_vars.shape[0]):\n",
    "                var_name = \"doctor \"+ ma_names[row] +\" \"+ time_period +\" \"+ doctor\n",
    "                print(var_name)\n",
    "                matrix_vars[row, curr_col] = matrix_vars[row, curr_col] + [solver.IntVar(0.0, 1.0, var_name)]\n",
    "    #add inbasket variables \n",
    "    for row in range(matrix_vars.shape[0]):\n",
    "        for col in range(matrix_vars.shape[1]):\n",
    "            for doctor in physician_names:\n",
    "                var_name = \"inbasket \"+ ma_names[row] +\" \"+ time_dims[col] +\" \"+ doctor\n",
    "                matrix_vars[row, col] = matrix_vars[row, col] + [solver.IntVar(0.0, 1.0, var_name)]\n",
    "    \n",
    "    #variable used for objective ie want to min Z\n",
    "    z = solver.IntVar(0.0, solver.infinity(),\"z\")\n",
    "    #create constraints \n",
    "        #for each doc-hour combination\n",
    "            #for each ma: make variable correspondting to their time \n",
    "    \n",
    "        #all pools must be covered \n",
    "    #each ma-time combination needs to be assigned a task \n",
    "    #each doctor needs to be assigned an MA\n",
    "    #preferences must be placed..."
   ]
  },
  {
   "cell_type": "code",
   "execution_count": 82,
   "metadata": {
    "collapsed": false
   },
   "outputs": [
    {
     "name": "stdout",
     "output_type": "stream",
     "text": [
      "<class 'list'>\n",
      "AM\n",
      "0\n",
      "doctor Diego AM Dr.Wong\n",
      "doctor Lucero AM Dr.Wong\n",
      "doctor Sally AM Dr.Wong\n",
      "PM\n",
      "1\n",
      "doctor Diego PM Dr.Wong\n",
      "doctor Lucero PM Dr.Wong\n",
      "doctor Sally PM Dr.Wong\n",
      "AM\n",
      "0\n",
      "doctor Diego AM Dr.Res\n",
      "doctor Lucero AM Dr.Res\n",
      "doctor Sally AM Dr.Res\n",
      "AM\n",
      "0\n",
      "doctor Diego AM Dr.Liz\n",
      "doctor Lucero AM Dr.Liz\n",
      "doctor Sally AM Dr.Liz\n",
      "PM\n",
      "1\n",
      "doctor Diego PM Dr.Liz\n",
      "doctor Lucero PM Dr.Liz\n",
      "doctor Sally PM Dr.Liz\n",
      "Diego AM\n",
      "\tdoctor Diego AM Dr.Wong\n",
      "\tdoctor Diego AM Dr.Res\n",
      "\tdoctor Diego AM Dr.Liz\n",
      "\tinbasket Diego AM Dr.Wong\n",
      "\tinbasket Diego AM Dr.Res\n",
      "\tinbasket Diego AM Dr.Liz\n",
      "Diego PM\n",
      "\tdoctor Diego PM Dr.Wong\n",
      "\tdoctor Diego PM Dr.Liz\n",
      "\tinbasket Diego PM Dr.Wong\n",
      "\tinbasket Diego PM Dr.Res\n",
      "\tinbasket Diego PM Dr.Liz\n",
      "Lucero AM\n",
      "\tdoctor Lucero AM Dr.Wong\n",
      "\tdoctor Lucero AM Dr.Res\n",
      "\tdoctor Lucero AM Dr.Liz\n",
      "\tinbasket Lucero AM Dr.Wong\n",
      "\tinbasket Lucero AM Dr.Res\n",
      "\tinbasket Lucero AM Dr.Liz\n",
      "Lucero PM\n",
      "\tdoctor Lucero PM Dr.Wong\n",
      "\tdoctor Lucero PM Dr.Liz\n",
      "\tinbasket Lucero PM Dr.Wong\n",
      "\tinbasket Lucero PM Dr.Res\n",
      "\tinbasket Lucero PM Dr.Liz\n",
      "Sally AM\n",
      "\tdoctor Sally AM Dr.Wong\n",
      "\tdoctor Sally AM Dr.Res\n",
      "\tdoctor Sally AM Dr.Liz\n",
      "\tinbasket Sally AM Dr.Wong\n",
      "\tinbasket Sally AM Dr.Res\n",
      "\tinbasket Sally AM Dr.Liz\n",
      "Sally PM\n",
      "\tdoctor Sally PM Dr.Wong\n",
      "\tdoctor Sally PM Dr.Liz\n",
      "\tinbasket Sally PM Dr.Wong\n",
      "\tinbasket Sally PM Dr.Res\n",
      "\tinbasket Sally PM Dr.Liz\n"
     ]
    }
   ],
   "source": [
    "find_rooming_inbasket_assign(physician_schedule, ma_schedule, preferences)"
   ]
  },
  {
   "cell_type": "code",
   "execution_count": null,
   "metadata": {
    "collapsed": true
   },
   "outputs": [],
   "source": []
  },
  {
   "cell_type": "code",
   "execution_count": null,
   "metadata": {
    "collapsed": true
   },
   "outputs": [],
   "source": []
  }
 ],
 "metadata": {
  "kernelspec": {
   "display_name": "Python [pytorch]",
   "language": "python",
   "name": "Python [pytorch]"
  },
  "language_info": {
   "codemirror_mode": {
    "name": "ipython",
    "version": 3
   },
   "file_extension": ".py",
   "mimetype": "text/x-python",
   "name": "python",
   "nbconvert_exporter": "python",
   "pygments_lexer": "ipython3",
   "version": "3.5.4"
  }
 },
 "nbformat": 4,
 "nbformat_minor": 0
}
