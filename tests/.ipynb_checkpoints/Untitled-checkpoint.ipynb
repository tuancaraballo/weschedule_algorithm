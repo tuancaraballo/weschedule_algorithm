{
 "cells": [
  {
   "cell_type": "code",
   "execution_count": 88,
   "metadata": {
    "collapsed": false
   },
   "outputs": [
    {
     "name": "stdout",
     "output_type": "stream",
     "text": [
      "Number of variables = 7\n",
      "Number of constraints = 5\n"
     ]
    }
   ],
   "source": [
    "import numpy as np\n",
    "import pandas as pd\n",
    "import ast \n",
    "from __future__ import print_function\n",
    "from ortools.linear_solver import pywraplp\n",
    "from math import isnan\n",
    "\n",
    "names = [\"A\", \"B\"]\n",
    "tasks = [(\"clean\",1),(\"wash\",1),(\"bill\",2)]\n",
    "\n",
    "solver = pywraplp.Solver('SolveIntegerProblem',\n",
    "                           pywraplp.Solver.CBC_MIXED_INTEGER_PROGRAMMING)\n",
    "\n",
    "z = solver.IntVar(0.0, solver.infinity(),\"z\")\n",
    "\n",
    "Aclean = solver.IntVar(0.0, 1.0, \"Aclean\")\n",
    "Awash = solver.IntVar(0.0, 1.0, \"Awash\")\n",
    "Abill = solver.IntVar(0.0, 1.0, \"Abill\")\n",
    "Bclean = solver.IntVar(0.0, 1.0, \"Bclean\")\n",
    "Bwash = solver.IntVar(0.0, 1.0, \"Bwash\")\n",
    "Bbill = solver.IntVar(0.0, 1.0, \"Bbill\")\n",
    "\n",
    "all_vars = [Aclean, Awash, Abill, Bclean, Bwash, Bbill, z]\n",
    "\n",
    "# aclean + awash + 2abill -z <= 0\n",
    "constraintA = solver.Constraint(-solver.infinity(), 0)\n",
    "constraintA.SetCoefficient(z, -1)\n",
    "constraintA.SetCoefficient(Aclean, 1)\n",
    "constraintA.SetCoefficient(Awash, 1)\n",
    "constraintA.SetCoefficient(Abill, 2)\n",
    "\n",
    "constraintB = solver.Constraint(-solver.infinity(), 0)\n",
    "constraintB.SetCoefficient(z, -1)\n",
    "constraintB.SetCoefficient(Bclean, 1)\n",
    "constraintB.SetCoefficient(Bwash, 1)\n",
    "constraintB.SetCoefficient(Bbill, 2)\n",
    "\n",
    "constraintwash = solver.Constraint(1, 1)\n",
    "constraintwash.SetCoefficient(Aclean, 1)\n",
    "constraintwash.SetCoefficient(Bclean, 1)\n",
    "\n",
    "constraintclean = solver.Constraint(1, 1)\n",
    "constraintclean.SetCoefficient(Awash, 1)\n",
    "constraintclean.SetCoefficient(Bwash, 1)\n",
    "\n",
    "constraintbill = solver.Constraint(1, 1)\n",
    "constraintbill.SetCoefficient(Abill, 1)\n",
    "constraintbill.SetCoefficient(Bbill, 1)\n",
    "constraintbill.SetCoefficient(z, 0)\n",
    "constraintbill.SetCoefficient(Bclean, 0)\n",
    "constraintbill.SetCoefficient(Bwash, 0)\n",
    "constraintbill.SetCoefficient(Awash, 0)\n",
    "constraintbill.SetCoefficient(Aclean, 0)\n",
    "\n",
    "objective = solver.Objective()\n",
    "objective.SetCoefficient(z,1)\n",
    "objective.SetCoefficient(Aclean,0)\n",
    "objective.SetCoefficient(Awash,0)\n",
    "objective.SetCoefficient(Abill,0)\n",
    "objective.SetCoefficient(Bclean,0)\n",
    "objective.SetCoefficient(Bwash,0)\n",
    "objective.SetCoefficient(Bbill,0)\n",
    "objective.SetMaximization()\n",
    "result_status = solver.Solve()\n",
    "\n",
    "print('Number of variables =', solver.NumVariables())\n",
    "print('Number of constraints =', solver.NumConstraints())\n",
    "\n",
    "# all_vars = []\n",
    "# tasks_dic = {}\n",
    "# for ma in names:\n",
    "#     constraint = solver.Constraint(-solver.infinity(), 0)\n",
    "#     constraint.SetCoefficient(z, -1)\n",
    "#     for task in tasks:\n",
    "#         var_name = ma + task[0]\n",
    "#         var = solver.IntVar(0, 1, var_name)\n",
    "#         all_vars = all_vars + [var]\n",
    "#         constraint.SetCoefficient(var, task[1])\n",
    "#         if task[0] in tasks_dic:\n",
    "#             tasks_dic[task[0]] = tasks_dic[task[0]] + [var]\n",
    "#         else: \n",
    "#             tasks_dic[task[0]] = [var]\n",
    "\n",
    "            \n",
    "            \n",
    "# for key, val in tasks_dic.items():\n",
    "#     print(key)\n",
    "#     constraint = solver.Constraint(1, 1)\n",
    "#     for var in val:\n",
    "#         constraint.SetCoefficient(var, 1)"
   ]
  },
  {
   "cell_type": "code",
   "execution_count": 89,
   "metadata": {
    "collapsed": true
   },
   "outputs": [],
   "source": [
    "objective = solver.Objective()\n",
    "objective.SetCoefficient(z,1)\n",
    "objective.SetMinimization()\n",
    "result_status = solver.Solve()"
   ]
  },
  {
   "cell_type": "code",
   "execution_count": 90,
   "metadata": {
    "collapsed": false
   },
   "outputs": [
    {
     "data": {
      "text/plain": [
       "3"
      ]
     },
     "execution_count": 90,
     "metadata": {},
     "output_type": "execute_result"
    }
   ],
   "source": [
    "result_status"
   ]
  },
  {
   "cell_type": "code",
   "execution_count": 91,
   "metadata": {
    "collapsed": false
   },
   "outputs": [
    {
     "name": "stdout",
     "output_type": "stream",
     "text": [
      "Aclean = 0\n",
      "Awash = 0\n",
      "Abill = 0\n",
      "Bclean = 0\n",
      "Bwash = 0\n",
      "Bbill = 0\n",
      "z = 0\n"
     ]
    }
   ],
   "source": [
    "for variable in all_vars:\n",
    "    print('%s = %d' % (variable.name(), variable.solution_value()))\n",
    "    \n"
   ]
  },
  {
   "cell_type": "code",
   "execution_count": 81,
   "metadata": {
    "collapsed": false
   },
   "outputs": [
    {
     "data": {
      "text/plain": [
       "1.0"
      ]
     },
     "execution_count": 81,
     "metadata": {},
     "output_type": "execute_result"
    }
   ],
   "source": [
    "constraint.GetCoefficient(var)"
   ]
  },
  {
   "cell_type": "code",
   "execution_count": null,
   "metadata": {
    "collapsed": true
   },
   "outputs": [],
   "source": []
  }
 ],
 "metadata": {
  "kernelspec": {
   "display_name": "Python [pytorch]",
   "language": "python",
   "name": "Python [pytorch]"
  },
  "language_info": {
   "codemirror_mode": {
    "name": "ipython",
    "version": 3
   },
   "file_extension": ".py",
   "mimetype": "text/x-python",
   "name": "python",
   "nbconvert_exporter": "python",
   "pygments_lexer": "ipython3",
   "version": "3.5.4"
  }
 },
 "nbformat": 4,
 "nbformat_minor": 0
}
