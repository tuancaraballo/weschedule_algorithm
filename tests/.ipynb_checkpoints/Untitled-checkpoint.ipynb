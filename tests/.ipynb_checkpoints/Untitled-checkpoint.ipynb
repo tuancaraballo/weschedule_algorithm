{
 "cells": [
  {
   "cell_type": "code",
   "execution_count": 36,
   "metadata": {
    "collapsed": false
   },
   "outputs": [
    {
     "name": "stdout",
     "output_type": "stream",
     "text": [
      "Number of variables = 7\n",
      "Number of constraints = 5\n"
     ]
    }
   ],
   "source": [
    "import numpy as np\n",
    "import pandas as pd\n",
    "import ast \n",
    "from __future__ import print_function\n",
    "from ortools.linear_solver import pywraplp\n",
    "from math import isnan\n",
    "\n",
    "names = [\"A\", \"B\"]\n",
    "tasks = [(\"clean\",1),(\"wash\",1),(\"bill\",2)]\n",
    "\n",
    "solver = pywraplp.Solver('SolveIntegerProblem',\n",
    "                           pywraplp.Solver.CBC_MIXED_INTEGER_PROGRAMMING)\n",
    "\n",
    "z = solver.IntVar(0.0, solver.infinity(),\"z\")\n",
    "\n",
    "Aclean = solver.IntVar(0.0, 1.0, \"Aclean\")\n",
    "Awash = solver.IntVar(0.0, 1.0, \"Awash\")\n",
    "Abill = solver.IntVar(0.0, 1.0, \"Abill\")\n",
    "Bclean = solver.IntVar(0.0, 1.0, \"Bclean\")\n",
    "Bwash = solver.IntVar(0.0, 1.0, \"Bwash\")\n",
    "Bbill = solver.IntVar(0.0, 1.0, \"Bbill\")\n",
    "\n",
    "all_vars = [Aclean, Awash, Abill, Bclean, Bwash, Bbill, z]\n",
    "\n",
    "# aclean + awash + 2abill -z <= 0\n",
    "constraintA = solver.Constraint(-solver.infinity(), 0)\n",
    "constraintA.SetCoefficient(z, -1)\n",
    "constraintA.SetCoefficient(Aclean, 1)\n",
    "constraintA.SetCoefficient(Awash, 1)\n",
    "constraintA.SetCoefficient(Abill, 2)\n",
    "\n",
    "constraintB = solver.Constraint(-solver.infinity(), 0)\n",
    "constraintB.SetCoefficient(z, -1)\n",
    "constraintB.SetCoefficient(Bclean, 1)\n",
    "constraintB.SetCoefficient(Bwash, 1)\n",
    "constraintB.SetCoefficient(Bbill, 2)\n",
    "\n",
    "constraintwash = solver.Constraint(1, 1)\n",
    "constraintwash.SetCoefficient(Aclean, 1)\n",
    "constraintwash.SetCoefficient(Bclean, 1)\n",
    "\n",
    "constraintclean = solver.Constraint(1, 1)\n",
    "constraintclean.SetCoefficient(Awash, 1)\n",
    "constraintclean.SetCoefficient(Bwash, 1)\n",
    "\n",
    "constraintbill = solver.Constraint(1, 1)\n",
    "constraintbill.SetCoefficient(Abill, 1)\n",
    "constraintbill.SetCoefficient(Bbill, 1)\n",
    "\n",
    "\n",
    "objective = solver.Objective()\n",
    "objective.SetCoefficient(z,1)\n",
    "objective.SetCoefficient(Aclean,0)\n",
    "objective.SetCoefficient(Awash,0)\n",
    "objective.SetCoefficient(Abill,0)\n",
    "# objective.SetCoefficient(Bclean,0)\n",
    "# objective.SetCoefficient(Bwash,0)\n",
    "# objective.SetCoefficient(Bbill,0)\n",
    "objective.SetMaximization()\n",
    "result_status = solver.Solve()\n",
    "\n",
    "print('Number of variables =', solver.NumVariables())\n",
    "print('Number of constraints =', solver.NumConstraints())\n",
    "\n",
    "# all_vars = []\n",
    "# tasks_dic = {}\n",
    "# for ma in names:\n",
    "#     constraint = solver.Constraint(-solver.infinity(), 0)\n",
    "#     constraint.SetCoefficient(z, -1)\n",
    "#     for task in tasks:\n",
    "#         var_name = ma + task[0]\n",
    "#         var = solver.IntVar(0, 1, var_name)\n",
    "#         all_vars = all_vars + [var]\n",
    "#         constraint.SetCoefficient(var, task[1])\n",
    "#         if task[0] in tasks_dic:\n",
    "#             tasks_dic[task[0]] = tasks_dic[task[0]] + [var]\n",
    "#         else: \n",
    "#             tasks_dic[task[0]] = [var]\n",
    "\n",
    "            \n",
    "            \n",
    "# for key, val in tasks_dic.items():\n",
    "#     print(key)\n",
    "#     constraint = solver.Constraint(1, 1)\n",
    "#     for var in val:\n",
    "#         constraint.SetCoefficient(var, 1)"
   ]
  },
  {
   "cell_type": "code",
   "execution_count": 8,
   "metadata": {
    "collapsed": false
   },
   "outputs": [],
   "source": [
    "objective = solver.Objective()\n",
    "objective.SetCoefficient(z,1)\n",
    "objective.SetMaximization()\n",
    "result_status = solver.Solve()"
   ]
  },
  {
   "cell_type": "code",
   "execution_count": 9,
   "metadata": {
    "collapsed": false
   },
   "outputs": [
    {
     "data": {
      "text/plain": [
       "3"
      ]
     },
     "execution_count": 9,
     "metadata": {},
     "output_type": "execute_result"
    }
   ],
   "source": [
    "result_status"
   ]
  },
  {
   "cell_type": "code",
   "execution_count": 10,
   "metadata": {
    "collapsed": false
   },
   "outputs": [
    {
     "name": "stdout",
     "output_type": "stream",
     "text": [
      "Aclean = 0\n",
      "Awash = 0\n",
      "Abill = 0\n",
      "Bclean = 0\n",
      "Bwash = 0\n",
      "Bbill = 0\n",
      "z = 0\n"
     ]
    }
   ],
   "source": [
    "for variable in all_vars:\n",
    "    print('%s = %d' % (variable.name(), variable.solution_value()))\n",
    "    \n"
   ]
  },
  {
   "cell_type": "code",
   "execution_count": 107,
   "metadata": {
    "collapsed": false
   },
   "outputs": [
    {
     "data": {
      "text/plain": [
       "1.0"
      ]
     },
     "execution_count": 107,
     "metadata": {},
     "output_type": "execute_result"
    }
   ],
   "source": [
    "constraint.GetCoefficient(var)"
   ]
  },
  {
   "cell_type": "code",
   "execution_count": 12,
   "metadata": {
    "collapsed": false
   },
   "outputs": [
    {
     "ename": "ImportError",
     "evalue": "No module named 'task_assignments'",
     "output_type": "error",
     "traceback": [
      "\u001b[0;31m---------------------------------------------------------------------------\u001b[0m",
      "\u001b[0;31mImportError\u001b[0m                               Traceback (most recent call last)",
      "\u001b[0;32m<ipython-input-12-f020a6d0030b>\u001b[0m in \u001b[0;36m<module>\u001b[0;34m()\u001b[0m\n\u001b[1;32m      1\u001b[0m \u001b[0;32mimport\u001b[0m \u001b[0msys\u001b[0m\u001b[0;34m\u001b[0m\u001b[0m\n\u001b[1;32m      2\u001b[0m \u001b[0msys\u001b[0m\u001b[0;34m.\u001b[0m\u001b[0mpath\u001b[0m\u001b[0;34m.\u001b[0m\u001b[0minsert\u001b[0m\u001b[0;34m(\u001b[0m\u001b[0;36m0\u001b[0m\u001b[0;34m,\u001b[0m \u001b[0;34m'Users/gustavochavez/Documents/GitHub/weschedule_algorithm'\u001b[0m\u001b[0;34m)\u001b[0m\u001b[0;34m\u001b[0m\u001b[0m\n\u001b[0;32m----> 3\u001b[0;31m \u001b[0;32mfrom\u001b[0m \u001b[0mtask_assignments\u001b[0m \u001b[0;32mimport\u001b[0m \u001b[0mfind_assignments\u001b[0m\u001b[0;34m\u001b[0m\u001b[0m\n\u001b[0m",
      "\u001b[0;31mImportError\u001b[0m: No module named 'task_assignments'"
     ]
    }
   ],
   "source": [
    "import sys\n",
    "sys.path.insert(0, 'Users/gustavochavez/Documents/GitHub/weschedule_algorithm')\n",
    "from task_assignments import find_assignments"
   ]
  },
  {
   "cell_type": "code",
   "execution_count": 27,
   "metadata": {
    "collapsed": false
   },
   "outputs": [],
   "source": []
  },
  {
   "cell_type": "code",
   "execution_count": 29,
   "metadata": {
    "collapsed": true
   },
   "outputs": [],
   "source": [
    "x = [('Clean Autoclave', 'autoclave', 1.0, [30]),\n",
    " ('Replace Printing Paper',\n",
    "  'autoclave',\n",
    "  0.2,\n",
    "  [3, 6, 9, 12, 15, 18, 21, 24, 27, 30]),\n",
    " ('Send Billing paperwork', 'none', 0.3, [1, 8, 15, 22, 29]),\n",
    " ('Create Monthly patient report', 'billing', 0.3, [30]),\n",
    " ('Cash report ',\n",
    "  'none',\n",
    "  0.1,\n",
    "  [1,\n",
    "   2,\n",
    "   3,\n",
    "   4,\n",
    "   5,\n",
    "   6,\n",
    "   7,\n",
    "   8,\n",
    "   9,\n",
    "   10,\n",
    "   11,\n",
    "   12,\n",
    "   13,\n",
    "   14,\n",
    "   15,\n",
    "   16,\n",
    "   17,\n",
    "   18,\n",
    "   19,\n",
    "   20,\n",
    "   21,\n",
    "   22,\n",
    "   23,\n",
    "   24,\n",
    "   25,\n",
    "   26,\n",
    "   27,\n",
    "   28,\n",
    "   29,\n",
    "   30,\n",
    "   31]),\n",
    " ('Stock rooms for materials', 'none', 0.3, [1, 8, 15, 22, 29]),\n",
    " ('Check and sort mail',\n",
    "  'none',\n",
    "  0.1,\n",
    "  [1,\n",
    "   2,\n",
    "   3,\n",
    "   4,\n",
    "   5,\n",
    "   6,\n",
    "   7,\n",
    "   8,\n",
    "   9,\n",
    "   10,\n",
    "   11,\n",
    "   12,\n",
    "   13,\n",
    "   14,\n",
    "   15,\n",
    "   16,\n",
    "   17,\n",
    "   18,\n",
    "   19,\n",
    "   20,\n",
    "   21,\n",
    "   22,\n",
    "   23,\n",
    "   24,\n",
    "   25,\n",
    "   26,\n",
    "   27,\n",
    "   28,\n",
    "   29,\n",
    "   30,\n",
    "   31]),\n",
    " ('Clean Back office', 'none', 0.3, [15, 30]),\n",
    " ('Send paperwork to occupational health', 'none', 1.0, [17]),\n",
    " ('Order lab supplies ', 'none', 0.5, [1, 8, 15, 22, 29]),\n",
    " ('Order front office supplies', 'none', 0.5, [15]),\n",
    " ('Order back office supplies', 'none', 1.0, [1, 8, 15, 22, 29]),\n",
    " ('File lab paperwork', 'none', 1.0, [1, 8, 15, 22, 29]),\n",
    " ('sending report to dr. nahib', 'none', 0.5, [20])]\n",
    "\n"
   ]
  },
  {
   "cell_type": "code",
   "execution_count": 30,
   "metadata": {
    "collapsed": false
   },
   "outputs": [],
   "source": [
    "list_task_dic = []\n",
    "for task in x: \n",
    "    new_task_dic = {}\n",
    "    new_task_dic[\"key\"] = task[0]\n",
    "    new_task_dic[\"skills_req\"] = task[1]\n",
    "    new_task_dic[\"effort\"] = task[2]\n",
    "    new_task_dic[\"due_dates\"] = task[3]\n",
    "    list_task_dic = list_task_dic + [new_task_dic]\n"
   ]
  },
  {
   "cell_type": "code",
   "execution_count": 22,
   "metadata": {
    "collapsed": false
   },
   "outputs": [],
   "source": [
    "x = [('A',\n",
    "  ['billing'],\n",
    "  [1, 2, 3, 5, 7, 9, 10, 14, 15, 17, 20, 21, 23, 24, 25, 28, 30, 31]),\n",
    " ('B', ['none'], [3, 4, 7, 9, 14, 16, 17, 18, 19, 21, 22, 25, 26]),\n",
    " ('C',\n",
    "  ['none'],\n",
    "  [2, 3, 4, 5, 6, 7, 8, 10, 12, 13, 14, 15, 20, 21, 25, 28, 30, 31]),\n",
    " ('D',\n",
    "  ['autoclave'],\n",
    "  [1, 4, 5, 8, 9, 12, 13, 14, 15, 16, 17, 18, 23, 24, 29, 30]),\n",
    " ('E', ['none'], [2, 4, 6, 9, 10, 16, 17, 18, 22, 25, 27, 28, 29, 30, 31])]\n",
    "\n",
    "list_ma_dic = []\n",
    "for ma in x:\n",
    "    new_dic = {}\n",
    "    new_dic[\"key\"] = ma[0]\n",
    "    new_dic[\"skills\"] = ma[1]\n",
    "    new_dic[\"availability\"] = ma[2]\n",
    "    list_ma_dic = list_ma_dic + [new_dic]"
   ]
  },
  {
   "cell_type": "code",
   "execution_count": 31,
   "metadata": {
    "collapsed": false
   },
   "outputs": [
    {
     "ename": "KeyError",
     "evalue": "'due_date'",
     "output_type": "error",
     "traceback": [
      "\u001b[0;31m---------------------------------------------------------------------------\u001b[0m",
      "\u001b[0;31mKeyError\u001b[0m                                  Traceback (most recent call last)",
      "\u001b[0;32m<ipython-input-31-8c5d17809136>\u001b[0m in \u001b[0;36m<module>\u001b[0;34m()\u001b[0m\n\u001b[0;32m----> 1\u001b[0;31m \u001b[0mfind_assignments\u001b[0m\u001b[0;34m(\u001b[0m\u001b[0mlist_ma_dic\u001b[0m\u001b[0;34m,\u001b[0m \u001b[0mlist_task_dic\u001b[0m\u001b[0;34m)\u001b[0m\u001b[0;34m\u001b[0m\u001b[0m\n\u001b[0m",
      "\u001b[0;32m<ipython-input-27-c7696c6d7fb7>\u001b[0m in \u001b[0;36mfind_assignments\u001b[0;34m(ma_info, task_info)\u001b[0m\n\u001b[1;32m      9\u001b[0m     \u001b[0mexpanded_tasks\u001b[0m \u001b[0;34m=\u001b[0m \u001b[0;34m[\u001b[0m\u001b[0;34m]\u001b[0m\u001b[0;34m\u001b[0m\u001b[0m\n\u001b[1;32m     10\u001b[0m     \u001b[0;32mfor\u001b[0m \u001b[0midx\u001b[0m\u001b[0;34m,\u001b[0m \u001b[0mtask\u001b[0m \u001b[0;32min\u001b[0m \u001b[0menumerate\u001b[0m\u001b[0;34m(\u001b[0m\u001b[0mtask_info\u001b[0m\u001b[0;34m)\u001b[0m\u001b[0;34m:\u001b[0m\u001b[0;34m\u001b[0m\u001b[0m\n\u001b[0;32m---> 11\u001b[0;31m         \u001b[0;32mfor\u001b[0m \u001b[0mday\u001b[0m \u001b[0;32min\u001b[0m \u001b[0mtask\u001b[0m\u001b[0;34m[\u001b[0m\u001b[0;34m\"due_date\"\u001b[0m\u001b[0;34m]\u001b[0m\u001b[0;34m:\u001b[0m\u001b[0;34m\u001b[0m\u001b[0m\n\u001b[0m\u001b[1;32m     12\u001b[0m             \u001b[0mexpanded_tasks\u001b[0m \u001b[0;34m=\u001b[0m \u001b[0mexpanded_tasks\u001b[0m \u001b[0;34m+\u001b[0m \u001b[0;34m[\u001b[0m\u001b[0;34m(\u001b[0m\u001b[0mtask\u001b[0m\u001b[0;34m[\u001b[0m\u001b[0;34m\"key\"\u001b[0m\u001b[0;34m]\u001b[0m\u001b[0;34m,\u001b[0m \u001b[0mtask\u001b[0m\u001b[0;34m[\u001b[0m\u001b[0;34m\"skills_req\"\u001b[0m\u001b[0;34m]\u001b[0m\u001b[0;34m,\u001b[0m \u001b[0mtask\u001b[0m\u001b[0;34m[\u001b[0m\u001b[0;34m\"effort\"\u001b[0m\u001b[0;34m]\u001b[0m\u001b[0;34m,\u001b[0m \u001b[0mday\u001b[0m\u001b[0;34m)\u001b[0m\u001b[0;34m]\u001b[0m\u001b[0;34m\u001b[0m\u001b[0m\n\u001b[1;32m     13\u001b[0m     \u001b[0mprint\u001b[0m\u001b[0;34m(\u001b[0m\u001b[0mlen\u001b[0m\u001b[0;34m(\u001b[0m\u001b[0mexpanded_tasks\u001b[0m\u001b[0;34m)\u001b[0m\u001b[0;34m)\u001b[0m\u001b[0;34m\u001b[0m\u001b[0m\n",
      "\u001b[0;31mKeyError\u001b[0m: 'due_date'"
     ]
    }
   ],
   "source": []
  },
  {
   "cell_type": "code",
   "execution_count": 48,
   "metadata": {
    "collapsed": true
   },
   "outputs": [],
   "source": [
    "\n",
    "def find_assignments(ma_info, task_info):\n",
    "\n",
    "    # make matrix to store all the variables, will be num_ma x num_task_days\n",
    "    num_cols = 0\n",
    "    for row in range(len(task_info)):\n",
    "        num_cols = num_cols + len(task_info[row][\"due_dates\"])\n",
    "\n",
    "    expanded_tasks = []\n",
    "    for idx, task in enumerate(task_info):\n",
    "        for day in task[\"due_dates\"]:\n",
    "            expanded_tasks = expanded_tasks + [(task[\"key\"], task[\"skills_req\"], task[\"effort\"], day)]\n",
    "    print(len(expanded_tasks))\n",
    "\n",
    "    matrix_vars = zeros((len(ma_info), len(expanded_tasks)), dtype=object)\n",
    "    print(\"matrix_vars is of shape {}\".format(matrix_vars.shape))\n",
    "\n",
    "    solver = pywraplp.Solver('SolveIntegerProblem',\n",
    "                             pywraplp.Solver.CBC_MIXED_INTEGER_PROGRAMMING)\n",
    "    # make all the variables\n",
    "\n",
    "    # make a list of tuples (task_name, skill, weight, day_due)\n",
    "    #notice that day_due is a int not a list of ints\n",
    "\n",
    "    expanded_tasks = []\n",
    "    for idx, task in enumerate(task_info):\n",
    "        for day in task[\"due_dates\"]:\n",
    "            expanded_tasks = expanded_tasks + [(task[\"key\"], task[\"skills_req\"], task[\"effort\"], day)]\n",
    "    #print(expanded_tasks)\n",
    "\n",
    "    for row, single_ma_info in enumerate(ma_info):\n",
    "        print(single_ma_info)\n",
    "        for col, single_task_info in enumerate(expanded_tasks):\n",
    "            # check if ma is working on day due\n",
    "            # check if ma has skills\n",
    "            print(single_task_info)\n",
    "            if single_task_info[3] in single_ma_info[\"availability\"] and single_task_info[1] == 'none' or single_task_info[1] in single_ma_info[\"skills\"]:\n",
    "                var_name = single_ma_info[\"key\"] + \" \" + single_task_info[0] + \" \" + str(single_task_info[3])\n",
    "                print(var_name)\n",
    "                matrix_vars[row, col] = solver.IntVar(0.0, 1.0, var_name)\n",
    "            else:\n",
    "                matrix_vars[row, col] = \"none\"\n",
    "\n",
    "    # make all the cosntraints\n",
    "\n",
    "    print(\"shape of matrix is {}\".format(matrix_vars.shape))\n",
    "    print(\"len of expaneded is {}\".format(len(expanded_tasks)))\n",
    "\n",
    "    z = solver.IntVar(0.0, solver.infinity(), \"z\")\n",
    "    ma_constraints = []\n",
    "    for row in range(matrix_vars.shape[0]):\n",
    "        constraint = solver.Constraint(-solver.infinity(), 0)\n",
    "        constraint.SetCoefficient(z, -1)\n",
    "        for col in range(matrix_vars.shape[1]):\n",
    "            if type(matrix_vars[row, col]) != type(\"none\"):\n",
    "                constraint.SetCoefficient(matrix_vars[row, col], expanded_tasks[col][2])\n",
    "        ma_constraints = ma_constraints + [constraint]\n",
    "\n",
    "    task_constraints = []\n",
    "    for col in range(matrix_vars.shape[1]):\n",
    "        constraint = solver.Constraint(1, 1)\n",
    "        for row in range(matrix_vars.shape[0]):\n",
    "            if type(matrix_vars[row, col]) != type(\"none\"):\n",
    "                constraint.SetCoefficient(matrix_vars[row, col], 1)\n",
    "        task_constraints = task_constraints + [constraint]\n",
    "\n",
    "\n",
    "\n",
    "    #run optimizer\n",
    "    objective = solver.Objective()\n",
    "    objective.SetCoefficient(z, 1)\n",
    "    objective.SetMinimization()\n",
    "    result_status = solver.Solve()\n",
    "\n",
    "    # print out\n",
    "\n",
    "    result = {}\n",
    "    for row in range(matrix_vars.shape[0]):\n",
    "        for col in range(matrix_vars.shape[1]):\n",
    "            if type(matrix_vars[row, col]) != type(\"none\") and matrix_vars[row, col].solution_value() == 1:\n",
    "                var_name = matrix_vars[row, col].name().split()\n",
    "                ma_name = var_name[0]\n",
    "                day = int(var_name[-1])\n",
    "                task_name = \" \".join(var_name[1: -1])\n",
    "                if ma_name not in result.keys():\n",
    "                    result[ma_name] = [(task_name, day)]\n",
    "                else:\n",
    "                    result[ma_name] = result[ma_name] + [(task_name, day)]\n",
    "    #create dictionary that maps ma_name to typle with (assignment name, date_due)\n",
    "    print(result)\n",
    "    return result"
   ]
  },
  {
   "cell_type": "code",
   "execution_count": 49,
   "metadata": {
    "collapsed": false
   },
   "outputs": [
    {
     "name": "stdout",
     "output_type": "stream",
     "text": [
      "104\n",
      "matrix_vars is of shape (5, 104)\n",
      "{'availability': [1, 2, 3, 5, 7, 9, 10, 14, 15, 17, 20, 21, 23, 24, 25, 28, 30, 31], 'skills': ['billing'], 'key': 'A'}\n",
      "('Clean Autoclave', 'autoclave', 1.0, 30)\n",
      "('Replace Printing Paper', 'autoclave', 0.2, 3)\n",
      "('Replace Printing Paper', 'autoclave', 0.2, 6)\n",
      "('Replace Printing Paper', 'autoclave', 0.2, 9)\n",
      "('Replace Printing Paper', 'autoclave', 0.2, 12)\n",
      "('Replace Printing Paper', 'autoclave', 0.2, 15)\n",
      "('Replace Printing Paper', 'autoclave', 0.2, 18)\n",
      "('Replace Printing Paper', 'autoclave', 0.2, 21)\n",
      "('Replace Printing Paper', 'autoclave', 0.2, 24)\n",
      "('Replace Printing Paper', 'autoclave', 0.2, 27)\n",
      "('Replace Printing Paper', 'autoclave', 0.2, 30)\n",
      "('Send Billing paperwork', 'none', 0.3, 1)\n"
     ]
    },
    {
     "ename": "KeyError",
     "evalue": "0",
     "output_type": "error",
     "traceback": [
      "\u001b[0;31m---------------------------------------------------------------------------\u001b[0m",
      "\u001b[0;31mKeyError\u001b[0m                                  Traceback (most recent call last)",
      "\u001b[0;32m<ipython-input-49-1dff6fa3ced7>\u001b[0m in \u001b[0;36m<module>\u001b[0;34m()\u001b[0m\n\u001b[1;32m      1\u001b[0m \u001b[0;32mfrom\u001b[0m \u001b[0mnumpy\u001b[0m \u001b[0;32mimport\u001b[0m \u001b[0mzeros\u001b[0m\u001b[0;34m\u001b[0m\u001b[0m\n\u001b[0;32m----> 2\u001b[0;31m \u001b[0mfind_assignments\u001b[0m\u001b[0;34m(\u001b[0m\u001b[0mlist_ma_dic\u001b[0m\u001b[0;34m,\u001b[0m \u001b[0mlist_task_dic\u001b[0m\u001b[0;34m)\u001b[0m\u001b[0;34m\u001b[0m\u001b[0m\n\u001b[0m",
      "\u001b[0;32m<ipython-input-48-66a31437775a>\u001b[0m in \u001b[0;36mfind_assignments\u001b[0;34m(ma_info, task_info)\u001b[0m\n\u001b[1;32m     36\u001b[0m             \u001b[0mprint\u001b[0m\u001b[0;34m(\u001b[0m\u001b[0msingle_task_info\u001b[0m\u001b[0;34m)\u001b[0m\u001b[0;34m\u001b[0m\u001b[0m\n\u001b[1;32m     37\u001b[0m             \u001b[0;32mif\u001b[0m \u001b[0msingle_task_info\u001b[0m\u001b[0;34m[\u001b[0m\u001b[0;36m3\u001b[0m\u001b[0;34m]\u001b[0m \u001b[0;32min\u001b[0m \u001b[0msingle_ma_info\u001b[0m\u001b[0;34m[\u001b[0m\u001b[0;34m\"availability\"\u001b[0m\u001b[0;34m]\u001b[0m \u001b[0;32mand\u001b[0m \u001b[0msingle_task_info\u001b[0m\u001b[0;34m[\u001b[0m\u001b[0;36m1\u001b[0m\u001b[0;34m]\u001b[0m \u001b[0;34m==\u001b[0m \u001b[0;34m'none'\u001b[0m \u001b[0;32mor\u001b[0m \u001b[0msingle_task_info\u001b[0m\u001b[0;34m[\u001b[0m\u001b[0;36m1\u001b[0m\u001b[0;34m]\u001b[0m \u001b[0;32min\u001b[0m \u001b[0msingle_ma_info\u001b[0m\u001b[0;34m[\u001b[0m\u001b[0;34m\"skills\"\u001b[0m\u001b[0;34m]\u001b[0m\u001b[0;34m:\u001b[0m\u001b[0;34m\u001b[0m\u001b[0m\n\u001b[0;32m---> 38\u001b[0;31m                 \u001b[0mvar_name\u001b[0m \u001b[0;34m=\u001b[0m \u001b[0msingle_ma_info\u001b[0m\u001b[0;34m[\u001b[0m\u001b[0;36m0\u001b[0m\u001b[0;34m]\u001b[0m \u001b[0;34m+\u001b[0m \u001b[0;34m\" \"\u001b[0m \u001b[0;34m+\u001b[0m \u001b[0msingle_task_info\u001b[0m\u001b[0;34m[\u001b[0m\u001b[0;36m0\u001b[0m\u001b[0;34m]\u001b[0m \u001b[0;34m+\u001b[0m \u001b[0;34m\" \"\u001b[0m \u001b[0;34m+\u001b[0m \u001b[0mstr\u001b[0m\u001b[0;34m(\u001b[0m\u001b[0msingle_task_info\u001b[0m\u001b[0;34m[\u001b[0m\u001b[0;36m3\u001b[0m\u001b[0;34m]\u001b[0m\u001b[0;34m)\u001b[0m\u001b[0;34m\u001b[0m\u001b[0m\n\u001b[0m\u001b[1;32m     39\u001b[0m                 \u001b[0mprint\u001b[0m\u001b[0;34m(\u001b[0m\u001b[0mvar_name\u001b[0m\u001b[0;34m)\u001b[0m\u001b[0;34m\u001b[0m\u001b[0m\n\u001b[1;32m     40\u001b[0m                 \u001b[0mmatrix_vars\u001b[0m\u001b[0;34m[\u001b[0m\u001b[0mrow\u001b[0m\u001b[0;34m,\u001b[0m \u001b[0mcol\u001b[0m\u001b[0;34m]\u001b[0m \u001b[0;34m=\u001b[0m \u001b[0msolver\u001b[0m\u001b[0;34m.\u001b[0m\u001b[0mIntVar\u001b[0m\u001b[0;34m(\u001b[0m\u001b[0;36m0.0\u001b[0m\u001b[0;34m,\u001b[0m \u001b[0;36m1.0\u001b[0m\u001b[0;34m,\u001b[0m \u001b[0mvar_name\u001b[0m\u001b[0;34m)\u001b[0m\u001b[0;34m\u001b[0m\u001b[0m\n",
      "\u001b[0;31mKeyError\u001b[0m: 0"
     ]
    }
   ],
   "source": [
    "from numpy import zeros\n",
    "find_assignments(list_ma_dic, list_task_dic)"
   ]
  },
  {
   "cell_type": "code",
   "execution_count": null,
   "metadata": {
    "collapsed": true
   },
   "outputs": [],
   "source": []
  }
 ],
 "metadata": {
  "anaconda-cloud": {},
  "kernelspec": {
   "display_name": "Python [pytorch]",
   "language": "python",
   "name": "Python [pytorch]"
  },
  "language_info": {
   "codemirror_mode": {
    "name": "ipython",
    "version": 3
   },
   "file_extension": ".py",
   "mimetype": "text/x-python",
   "name": "python",
   "nbconvert_exporter": "python",
   "pygments_lexer": "ipython3",
   "version": "3.5.4"
  }
 },
 "nbformat": 4,
 "nbformat_minor": 0
}
